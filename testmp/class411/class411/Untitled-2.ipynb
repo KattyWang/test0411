{
 "cells": [
  {
   "cell_type": "code",
   "execution_count": 1,
   "metadata": {},
   "outputs": [],
   "source": [
    "import cv2\n",
    "import mediapipe as mp\n",
    "import math"
   ]
  },
  {
   "cell_type": "code",
   "execution_count": 2,
   "metadata": {},
   "outputs": [],
   "source": [
    "mp_hands=mp.solutions.hands\n",
    "hands = mp_hands.Hands()\n",
    "mp_drawing=mp.solutions.drawing_utils\n",
    "hand_LmsStyle=mp_drawing.DrawingSpec(color=(0,0,255),thickness=5)\n",
    "hand_ConStyle=mp_drawing.DrawingSpec(color=(0,255,0),thickness=10)\n"
   ]
  },
  {
   "cell_type": "code",
   "execution_count": 3,
   "metadata": {},
   "outputs": [],
   "source": [
    "def vector_2d_angle(v1, v2):\n",
    "    v1_x = v1[0]\n",
    "    v1_y = v1[1]\n",
    "    v2_x = v2[0]\n",
    "    v2_y = v2[1]\n",
    "    try:\n",
    "        angle_ = math.degrees(math.acos(\n",
    "            (v1_x*v2_x+v1_y*v2_y)/(((v1_x**2+v1_y**2)**0.5)*((v2_x**2+v2_y**2)**0.5))))\n",
    "    except:\n",
    "        angle_ = 180\n",
    "    return angle_\n"
   ]
  },
  {
   "cell_type": "code",
   "execution_count": 4,
   "metadata": {},
   "outputs": [],
   "source": [
    "def hand_angle(hand_):\n",
    "    angle_list = []\n",
    "\n",
    "    angle_ = vector_2d_angle(\n",
    "        ((int(hand_[0][0]) - int(hand_[2][0])),\n",
    "         (int(hand_[0][1])-int(hand_[2][1]))),\n",
    "        ((int(hand_[3][0]) - int(hand_[4][0])),\n",
    "         (int(hand_[3][1]) - int(hand_[4][1])))\n",
    "    )\n",
    "    angle_list.append(angle_)\n",
    "\n",
    "    angle_ = vector_2d_angle(\n",
    "        ((int(hand_[0][0])-int(hand_[6][0])),\n",
    "         (int(hand_[0][1]) - int(hand_[6][1]))),\n",
    "        ((int(hand_[7][0]) - int(hand_[8][0])),\n",
    "         (int(hand_[7][1]) - int(hand_[8][1])))\n",
    "    )\n",
    "    angle_list.append(angle_)\n",
    "\n",
    "    angle_ = vector_2d_angle(\n",
    "        ((int(hand_[0][0]) - int(hand_[10][0])),\n",
    "         (int(hand_[0][1]) - int(hand_[10][1]))),\n",
    "        ((int(hand_[11][0]) - int(hand_[12][0])),\n",
    "         (int(hand_[11][1]) - int(hand_[12][1])))\n",
    "    )\n",
    "    angle_list.append(angle_)\n",
    "\n",
    "    angle_ = vector_2d_angle(\n",
    "        ((int(hand_[0][0]) - int(hand_[14][0])),\n",
    "         (int(hand_[0][1]) - int(hand_[14][1]))),\n",
    "        ((int(hand_[15][0]) - int(hand_[16][0])),\n",
    "         (int(hand_[15][1]) - int(hand_[16][1])))\n",
    "    )\n",
    "    angle_list.append(angle_)\n",
    "\n",
    "    angle_ = vector_2d_angle(\n",
    "        ((int(hand_[0][0]) - int(hand_[18][0])),\n",
    "         (int(hand_[0][1]) - int(hand_[18][1]))),\n",
    "        ((int(hand_[19][0]) - int(hand_[20][0])),\n",
    "         (int(hand_[19][1]) - int(hand_[20][1])))\n",
    "    )\n",
    "    angle_list.append(angle_)\n",
    "    return angle_list"
   ]
  },
  {
   "cell_type": "code",
   "execution_count": 5,
   "metadata": {},
   "outputs": [],
   "source": [
    "# 根據手指角度的串列內容，返回對應的手勢名稱\n",
    "def hand_pos(finger_angle):\n",
    "    f1 = finger_angle[0]\n",
    "    f2 = finger_angle[1]\n",
    "    f3 = finger_angle[2]\n",
    "    f4 = finger_angle[3]\n",
    "    f5 = finger_angle[4]\n",
    "\n",
    "    if f1 >= 50 and f2 >= 50 and f3 >= 50 and f4 >= 50 and f5 >= 50:\n",
    "        return '0'\n",
    "    elif f1 >= 50 and f2 < 50 and f3 >= 50 and f4 >= 50 and f5 >= 50:\n",
    "        return '1'\n",
    "    elif f1 >= 50 and f2 < 50 and f3 < 50 and f4 >= 50 and f5 >= 50:\n",
    "        return '2'\n",
    "    else:\n",
    "        return ''"
   ]
  },
  {
   "cell_type": "code",
   "execution_count": 6,
   "metadata": {},
   "outputs": [
    {
     "ename": "NameError",
     "evalue": "name 'hand_landmark' is not defined",
     "output_type": "error",
     "traceback": [
      "\u001b[1;31m---------------------------------------------------------------------------\u001b[0m",
      "\u001b[1;31mNameError\u001b[0m                                 Traceback (most recent call last)",
      "\u001b[1;32m~\\AppData\\Local\\Temp\\ipykernel_11732\\1733194029.py\u001b[0m in \u001b[0;36m<module>\u001b[1;34m\u001b[0m\n\u001b[0;32m     12\u001b[0m             \u001b[0mmp_drawing\u001b[0m\u001b[1;33m.\u001b[0m\u001b[0mdraw_landmarks\u001b[0m\u001b[1;33m(\u001b[0m\u001b[0mimg\u001b[0m\u001b[1;33m,\u001b[0m\u001b[0mhand_landmarks\u001b[0m\u001b[1;33m,\u001b[0m\u001b[0mmp_hands\u001b[0m\u001b[1;33m.\u001b[0m\u001b[0mHAND_CONNECTIONS\u001b[0m\u001b[1;33m,\u001b[0m\u001b[0mhand_LmsStyle\u001b[0m\u001b[1;33m,\u001b[0m\u001b[0mhand_ConStyle\u001b[0m\u001b[1;33m)\u001b[0m\u001b[1;33m\u001b[0m\u001b[1;33m\u001b[0m\u001b[0m\n\u001b[0;32m     13\u001b[0m             \u001b[0mfinger_points\u001b[0m\u001b[1;33m=\u001b[0m\u001b[1;33m[\u001b[0m\u001b[1;33m]\u001b[0m\u001b[1;33m\u001b[0m\u001b[1;33m\u001b[0m\u001b[0m\n\u001b[1;32m---> 14\u001b[1;33m             \u001b[1;32mfor\u001b[0m \u001b[0mi\u001b[0m \u001b[1;32min\u001b[0m \u001b[0mhand_landmark\u001b[0m\u001b[1;33m:\u001b[0m\u001b[1;33m\u001b[0m\u001b[1;33m\u001b[0m\u001b[0m\n\u001b[0m\u001b[0;32m     15\u001b[0m                 \u001b[1;31m#print(i.x,i.y)\u001b[0m\u001b[1;33m\u001b[0m\u001b[1;33m\u001b[0m\u001b[1;33m\u001b[0m\u001b[0m\n\u001b[0;32m     16\u001b[0m                 \u001b[0mx\u001b[0m\u001b[1;33m=\u001b[0m\u001b[0mi\u001b[0m\u001b[1;33m.\u001b[0m\u001b[0mx\u001b[0m\u001b[1;33m*\u001b[0m\u001b[0mw\u001b[0m\u001b[1;33m\u001b[0m\u001b[1;33m\u001b[0m\u001b[0m\n",
      "\u001b[1;31mNameError\u001b[0m: name 'hand_landmark' is not defined"
     ]
    }
   ],
   "source": [
    "cap = cv2.VideoCapture(0)\n",
    "while True:\n",
    "    ret,img=cap.read()\n",
    "    img_rgb=cv2.cvtColor(img,cv2.COLOR_BGR2RGB)\n",
    "    results=hands.process(img_rgb)\n",
    "    h=img_rgb.shape[0]\n",
    "    w=img_rgb.shape[1]\n",
    "    if results.multi_hand_landmarks:\n",
    "        #print(results.multi_hand_landmarks)\n",
    "        #break\n",
    "        for hand_landmarks in results.multi_hand_landmarks:\n",
    "            mp_drawing.draw_landmarks(img,hand_landmarks,mp_hands.HAND_CONNECTIONS,hand_LmsStyle,hand_ConStyle)\n",
    "            finger_points=[]\n",
    "            for i in hand_landmark:\n",
    "                #print(i.x,i.y)\n",
    "                x=i.x*w\n",
    "                y=i.y*h\n",
    "                finger_points.append((x,y))\n",
    "            if finger_points:\n",
    "                finger_angle=hand_angle(finger_points)\n",
    "                text=hand_pos(finger_angle)\n",
    "                cv2.putText(img,text,(30,120),cv2.FONT_HERSHEY_SIMPLEX,3,(255,0,0),3)\n",
    "    cv2.imshow('hand',img)\n",
    "    if cv2.waitKey(5)== ord('q'):\n",
    "        break\n",
    "cap.release()\n",
    "cv2.destoryAllWindows()"
   ]
  },
  {
   "cell_type": "code",
   "execution_count": null,
   "metadata": {},
   "outputs": [],
   "source": []
  }
 ],
 "metadata": {
  "kernelspec": {
   "display_name": "YOUR_ENV_NAME",
   "language": "python",
   "name": "python3"
  },
  "language_info": {
   "codemirror_mode": {
    "name": "ipython",
    "version": 3
   },
   "file_extension": ".py",
   "mimetype": "text/x-python",
   "name": "python",
   "nbconvert_exporter": "python",
   "pygments_lexer": "ipython3",
   "version": "3.7.16"
  },
  "orig_nbformat": 4
 },
 "nbformat": 4,
 "nbformat_minor": 2
}
